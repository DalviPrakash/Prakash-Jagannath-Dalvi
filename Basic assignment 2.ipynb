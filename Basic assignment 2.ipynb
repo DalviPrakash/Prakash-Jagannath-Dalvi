{
 "cells": [
  {
   "cell_type": "markdown",
   "id": "84251182",
   "metadata": {},
   "source": [
    "Write a Python program to convert kilometers to miles?"
   ]
  },
  {
   "cell_type": "code",
   "execution_count": 2,
   "id": "2264e85d",
   "metadata": {},
   "outputs": [
    {
     "name": "stdout",
     "output_type": "stream",
     "text": [
      "Enter value in kilometers: 453\n",
      "453.0 281.481063\n"
     ]
    }
   ],
   "source": [
    "kilometers = float(input(\"Enter value in kilometers: \"))\n",
    "conv_fac = 0.621371\n",
    "miles = kilometers * conv_fac\n",
    "print(kilometers,  miles)"
   ]
  },
  {
   "cell_type": "markdown",
   "id": "938257d1",
   "metadata": {},
   "source": [
    "Write a Python program to convert Celsius to Fahrenheit?"
   ]
  },
  {
   "cell_type": "code",
   "execution_count": 3,
   "id": "b6580aef",
   "metadata": {},
   "outputs": [
    {
     "name": "stdout",
     "output_type": "stream",
     "text": [
      "Enter the temperature in Celsius: 21\n",
      "Temperature in Frenheight is   69.80000000000001\n"
     ]
    }
   ],
   "source": [
    "temp = float(input(\"Enter the temperature in Celsius: \")) \n",
    "temp= (temp * (9/5)) + 32     \n",
    " \n",
    "print (\"Temperature in Frenheight is  \", temp) "
   ]
  },
  {
   "cell_type": "markdown",
   "id": "8107d578",
   "metadata": {},
   "source": [
    "Write a Python program to display calendar?"
   ]
  },
  {
   "cell_type": "code",
   "execution_count": 6,
   "id": "36905757",
   "metadata": {},
   "outputs": [
    {
     "name": "stdout",
     "output_type": "stream",
     "text": [
      "   December 2020\n",
      "Mo Tu We Th Fr Sa Su\n",
      "    1  2  3  4  5  6\n",
      " 7  8  9 10 11 12 13\n",
      "14 15 16 17 18 19 20\n",
      "21 22 23 24 25 26 27\n",
      "28 29 30 31\n",
      "\n"
     ]
    }
   ],
   "source": [
    "import calendar\n",
    " \n",
    "yy = 2020\n",
    "mm = 12\n",
    " \n",
    "\n",
    "print(calendar.month(yy, mm))"
   ]
  },
  {
   "cell_type": "markdown",
   "id": "a76b3c87",
   "metadata": {},
   "source": [
    "Write a Python program to solve quadratic equation?"
   ]
  },
  {
   "cell_type": "code",
   "execution_count": 8,
   "id": "6d20d5f3",
   "metadata": {},
   "outputs": [
    {
     "name": "stdout",
     "output_type": "stream",
     "text": [
      "5\n",
      "51\n",
      "3\n",
      "The roots are\n",
      "(-10.140833264451425+0j)\n",
      "(-0.0591667355485761+0j)\n"
     ]
    }
   ],
   "source": [
    "import cmath\n",
    "  \n",
    "a = int(input())\n",
    "b = int(input())\n",
    "c = int(input())\n",
    "  \n",
    "dis = (b**2) - (4 * a*c)\n",
    "\n",
    "\n",
    "ans1 = (-b-cmath.sqrt(dis))/(2 * a)\n",
    "ans2 = (-b + cmath.sqrt(dis))/(2 * a)\n",
    "  \n",
    "\n",
    "print('The roots are')\n",
    "print(ans1)\n",
    "print(ans2)"
   ]
  },
  {
   "cell_type": "markdown",
   "id": "f5f25a14",
   "metadata": {},
   "source": [
    "Write a Python program to swap two variables without temp variable?"
   ]
  },
  {
   "cell_type": "code",
   "execution_count": 10,
   "id": "dbca3d10",
   "metadata": {},
   "outputs": [
    {
     "name": "stdout",
     "output_type": "stream",
     "text": [
      "Enter first number: 1\n",
      "Enter second number: 2\n",
      "Old value of int 1 & int2 are (1, 2)\n",
      "New value of int 1 & int2 are (2, 1)\n"
     ]
    }
   ],
   "source": [
    "int1 = int(input(\"Enter first number: \"))\n",
    "int2 = int(input(\"Enter second number: \"))\n",
    "\n",
    "print('Old value of int 1 & int2 are' ,(int1, int2))\n",
    "\n",
    "int1 = int1 + int2\n",
    "int2 = int1 - int2\n",
    "int1 = int1 - int2\n",
    "\n",
    "print('New value of int 1 & int2 are', (int1, int2))"
   ]
  },
  {
   "cell_type": "code",
   "execution_count": null,
   "id": "e4d59dfe",
   "metadata": {},
   "outputs": [],
   "source": []
  }
 ],
 "metadata": {
  "kernelspec": {
   "display_name": "Python 3 (ipykernel)",
   "language": "python",
   "name": "python3"
  },
  "language_info": {
   "codemirror_mode": {
    "name": "ipython",
    "version": 3
   },
   "file_extension": ".py",
   "mimetype": "text/x-python",
   "name": "python",
   "nbconvert_exporter": "python",
   "pygments_lexer": "ipython3",
   "version": "3.9.7"
  }
 },
 "nbformat": 4,
 "nbformat_minor": 5
}
