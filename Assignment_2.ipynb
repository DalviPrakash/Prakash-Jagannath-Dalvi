{
  "cells": [
    {
      "cell_type": "raw",
      "id": "41d39147",
      "metadata": {
        "id": "41d39147"
      },
      "source": [
        "1.What are the two values of the Boolean data type? How do you write them?\n",
        "Answer :-) There are 2 type of Boolean data type , which are True , False"
      ]
    },
    {
      "cell_type": "code",
      "execution_count": null,
      "id": "670db5cb",
      "metadata": {
        "id": "670db5cb",
        "outputId": "6935abae-3324-4b75-ebdc-21b27f7bc08f"
      },
      "outputs": [
        {
          "data": {
            "text/plain": [
              "True"
            ]
          },
          "execution_count": 1,
          "metadata": {},
          "output_type": "execute_result"
        }
      ],
      "source": [
        "True"
      ]
    },
    {
      "cell_type": "code",
      "execution_count": null,
      "id": "0b4de9ff",
      "metadata": {
        "id": "0b4de9ff",
        "outputId": "bfa74a29-4e4a-4f3c-c31a-1c5fd298c4b2"
      },
      "outputs": [
        {
          "data": {
            "text/plain": [
              "False"
            ]
          },
          "execution_count": 2,
          "metadata": {},
          "output_type": "execute_result"
        }
      ],
      "source": [
        "False"
      ]
    },
    {
      "cell_type": "raw",
      "id": "74427ea4",
      "metadata": {
        "id": "74427ea4"
      },
      "source": [
        "2. What are the three different types of Boolean operators?\n",
        "Answer:-) and , or, not"
      ]
    },
    {
      "cell_type": "raw",
      "id": "d5e5b930",
      "metadata": {
        "id": "d5e5b930"
      },
      "source": [
        "3. Make a list of each Boolean operator's truth tables (i.e. every possible combination of Boolean values for the operator and what it evaluate )."
      ]
    },
    {
      "cell_type": "code",
      "execution_count": null,
      "id": "42cf3950",
      "metadata": {
        "id": "42cf3950"
      },
      "outputs": [],
      "source": [
        "a=True\n",
        "b=False\n",
        "abc=a and b\n",
        "s=[]\n",
        "s.append(abc)"
      ]
    },
    {
      "cell_type": "code",
      "execution_count": null,
      "id": "7ee946ff",
      "metadata": {
        "id": "7ee946ff",
        "outputId": "5591e416-cd0f-43c9-e3e8-41b48215c37c"
      },
      "outputs": [
        {
          "data": {
            "text/plain": [
              "[False]"
            ]
          },
          "execution_count": 64,
          "metadata": {},
          "output_type": "execute_result"
        }
      ],
      "source": [
        "s"
      ]
    },
    {
      "cell_type": "code",
      "execution_count": null,
      "id": "bdf4bf94",
      "metadata": {
        "id": "bdf4bf94"
      },
      "outputs": [],
      "source": [
        "a=True\n",
        "b=False\n",
        "defg=a or b\n",
        "s.append(defg)"
      ]
    },
    {
      "cell_type": "code",
      "execution_count": null,
      "id": "1427ade7",
      "metadata": {
        "id": "1427ade7",
        "outputId": "2de3c9a3-9c28-4257-cd7b-599876269fe6"
      },
      "outputs": [
        {
          "data": {
            "text/plain": [
              "[False, True]"
            ]
          },
          "execution_count": 66,
          "metadata": {},
          "output_type": "execute_result"
        }
      ],
      "source": [
        "s"
      ]
    },
    {
      "cell_type": "code",
      "execution_count": null,
      "id": "038d38ff",
      "metadata": {
        "id": "038d38ff"
      },
      "outputs": [],
      "source": [
        "a=True\n",
        "b=False\n",
        "hijkl= a !=b\n",
        "s.append(hijkl)"
      ]
    },
    {
      "cell_type": "code",
      "execution_count": null,
      "id": "84b36330",
      "metadata": {
        "id": "84b36330",
        "outputId": "24e846f7-f9e7-4e42-b9d0-117171f7273e"
      },
      "outputs": [
        {
          "data": {
            "text/plain": [
              "[False, True, True]"
            ]
          },
          "execution_count": 68,
          "metadata": {},
          "output_type": "execute_result"
        }
      ],
      "source": [
        "s"
      ]
    },
    {
      "cell_type": "raw",
      "id": "45b3cba7",
      "metadata": {
        "id": "45b3cba7"
      },
      "source": [
        "4. What are the values of the following expressions?\n",
        "(5 > 4) and (3 == 5)\n",
        "not (5 > 4)\n",
        "(5 > 4) or (3 == 5)\n",
        "not ((5 > 4) or (3 == 5))\n",
        "(True and True) and (True == False)\n",
        "(not False) or (not True)\n"
      ]
    },
    {
      "cell_type": "code",
      "execution_count": null,
      "id": "1cc2403b",
      "metadata": {
        "id": "1cc2403b",
        "outputId": "02018663-ca1e-4115-8c9c-8899c982e35b"
      },
      "outputs": [
        {
          "data": {
            "text/plain": [
              "False"
            ]
          },
          "execution_count": 69,
          "metadata": {},
          "output_type": "execute_result"
        }
      ],
      "source": [
        "(5 > 4) and (3 == 5)"
      ]
    },
    {
      "cell_type": "code",
      "execution_count": null,
      "id": "2f7f0bd6",
      "metadata": {
        "id": "2f7f0bd6",
        "outputId": "1f3633b3-fa81-4c09-d484-75b6a3e1b2dd"
      },
      "outputs": [
        {
          "data": {
            "text/plain": [
              "False"
            ]
          },
          "execution_count": 70,
          "metadata": {},
          "output_type": "execute_result"
        }
      ],
      "source": [
        "not (5 > 4)"
      ]
    },
    {
      "cell_type": "code",
      "execution_count": null,
      "id": "f4d6aaf3",
      "metadata": {
        "id": "f4d6aaf3",
        "outputId": "f45ee8e3-d8de-4d01-e404-d8c87a6041a5"
      },
      "outputs": [
        {
          "data": {
            "text/plain": [
              "True"
            ]
          },
          "execution_count": 71,
          "metadata": {},
          "output_type": "execute_result"
        }
      ],
      "source": [
        "(5 > 4) or (3 == 5)"
      ]
    },
    {
      "cell_type": "code",
      "execution_count": null,
      "id": "41cff23b",
      "metadata": {
        "id": "41cff23b",
        "outputId": "ff6120d8-c784-4cab-8c4b-e3d764f40d37"
      },
      "outputs": [
        {
          "data": {
            "text/plain": [
              "False"
            ]
          },
          "execution_count": 72,
          "metadata": {},
          "output_type": "execute_result"
        }
      ],
      "source": [
        "not ((5 > 4) or (3 == 5))"
      ]
    },
    {
      "cell_type": "code",
      "execution_count": null,
      "id": "1fe3649e",
      "metadata": {
        "id": "1fe3649e",
        "outputId": "96a2fcc1-aacc-4935-f9d8-9642d9213092"
      },
      "outputs": [
        {
          "data": {
            "text/plain": [
              "False"
            ]
          },
          "execution_count": 73,
          "metadata": {},
          "output_type": "execute_result"
        }
      ],
      "source": [
        "(True and True) and (True == False)"
      ]
    },
    {
      "cell_type": "code",
      "execution_count": null,
      "id": "c545591d",
      "metadata": {
        "id": "c545591d",
        "outputId": "ae433c4b-50b1-46f9-aced-7b1ae1ba560a"
      },
      "outputs": [
        {
          "data": {
            "text/plain": [
              "True"
            ]
          },
          "execution_count": 74,
          "metadata": {},
          "output_type": "execute_result"
        }
      ],
      "source": [
        "(not False) or (not True)"
      ]
    },
    {
      "cell_type": "raw",
      "id": "f2153795",
      "metadata": {
        "id": "f2153795"
      },
      "source": [
        "5. What are the six comparison operators?\n",
        "answer:-) greatar than(>) , greatar than equal to (>=) , less than(<) , less than equal to (<=) , equl to (==) , Not equal to (!=)"
      ]
    },
    {
      "cell_type": "raw",
      "id": "6450423e",
      "metadata": {
        "id": "6450423e"
      },
      "source": [
        "6. How do you tell the difference between the equal to and assignment operators?Describe a condition and when you would use one.\n",
        "\n",
        "Answer :-) \n",
        "\n",
        "equal to (==) :-) it is a comparison operator. It is used for comparing two values. It returns 1 if both the values are equal otherwise returns 0.\n",
        "\n",
        "assignment operator (=) :-)  It is an assignment operator. it is used for assigning the value to a variable.\n",
        "\n",
        "\n",
        "A condition is an expression used in a flow control statement that evaluates to a Boolean value."
      ]
    },
    {
      "cell_type": "code",
      "execution_count": null,
      "id": "a05ab76e",
      "metadata": {
        "id": "a05ab76e",
        "outputId": "27237d87-addb-48ed-c15f-f352aae2fec2"
      },
      "outputs": [
        {
          "name": "stdout",
          "output_type": "stream",
          "text": [
            "sudh\n",
            "hi\n"
          ]
        }
      ],
      "source": [
        "a=input()\n",
        "if a == \"sudh\":\n",
        "    print(\"hi\")\n",
        "else:\n",
        "    print(\"bye\")"
      ]
    },
    {
      "cell_type": "code",
      "execution_count": null,
      "id": "b2bb9287",
      "metadata": {
        "id": "b2bb9287",
        "outputId": "2e5b2400-21ff-4940-eae5-6a324c62080d"
      },
      "outputs": [
        {
          "name": "stdout",
          "output_type": "stream",
          "text": [
            "-2\n"
          ]
        }
      ],
      "source": [
        "a = 3\n",
        "b = 5\n",
        "v = a - b\n",
        "print(v)"
      ]
    },
    {
      "cell_type": "raw",
      "id": "8e9bd26b",
      "metadata": {
        "id": "8e9bd26b"
      },
      "source": [
        "7. Identify the three blocks in this code:\n",
        "spam = 0\n",
        "if spam == 10:\n",
        "print('eggs')\n",
        "if spam > 5:\n",
        "print('bacon')\n",
        "else:\n",
        "print('ham')\n",
        "print('spam')\n",
        "print('spam')\n"
      ]
    },
    {
      "cell_type": "code",
      "execution_count": null,
      "id": "05473822",
      "metadata": {
        "id": "05473822",
        "outputId": "c558e7ab-f2fd-4c36-878c-852863a7f30b"
      },
      "outputs": [
        {
          "name": "stdout",
          "output_type": "stream",
          "text": [
            "spam\n"
          ]
        }
      ],
      "source": [
        "spam = 0\n",
        "if spam == 10:\n",
        "    print('eggs')\n",
        "    if spam > 5:\n",
        "        print('bacon')\n",
        "    else:\n",
        "        print('ham')\n",
        "    print('spam')\n",
        "print('spam')\n"
      ]
    },
    {
      "cell_type": "raw",
      "id": "7f95d42b",
      "metadata": {
        "id": "7f95d42b"
      },
      "source": [
        "The three blocks are everything inside the if statement and the lines print('bacon') and print('ham').\n",
        "print('eggs')\n",
        "if spam > 5:\n",
        "print('bacon')\n",
        "else:\n",
        "print('ham')\n",
        "print('spam')"
      ]
    },
    {
      "cell_type": "raw",
      "id": "3e7a11f0",
      "metadata": {
        "id": "3e7a11f0"
      },
      "source": [
        "8. Write code that prints Hello if 1 is stored in spam, prints Howdy if 2 is stored in spam, and prints Greetings! if anything else is stored in spam."
      ]
    },
    {
      "cell_type": "code",
      "execution_count": null,
      "id": "3315938f",
      "metadata": {
        "id": "3315938f",
        "outputId": "44f9eef5-b32d-4852-bc95-72d9c70ca4cd"
      },
      "outputs": [
        {
          "name": "stdout",
          "output_type": "stream",
          "text": [
            "1\n",
            "Hello\n"
          ]
        }
      ],
      "source": [
        "spam=int(input())\n",
        "if spam==1:\n",
        "    print(\"Hello\")\n",
        "elif spam==2:\n",
        "    print(\"Howdy\")\n",
        "else:\n",
        "    print(\"Greetings\")"
      ]
    },
    {
      "cell_type": "raw",
      "id": "93110523",
      "metadata": {
        "id": "93110523"
      },
      "source": [
        "9.If your programme is stuck in an endless loop, what keys you’ll press?\n",
        "Answer:-) Ctrl + c"
      ]
    },
    {
      "cell_type": "raw",
      "id": "7d122abe",
      "metadata": {
        "id": "7d122abe"
      },
      "source": [
        "10. How can you tell the difference between break and continue?\n",
        "Answer :-)The break statement will move the execution outside and just after a loop. The continue statement will move the execution to the start of the loop."
      ]
    },
    {
      "cell_type": "raw",
      "id": "eae9e773",
      "metadata": {
        "id": "eae9e773"
      },
      "source": [
        "11. In a for loop, what is the difference between range(10), range(0, 10), and range(0, 10, 1)?"
      ]
    },
    {
      "cell_type": "raw",
      "id": "820f28e0",
      "metadata": {
        "id": "820f28e0"
      },
      "source": [
        "If we write range(10) or range (0,10) or range(0,10,1) then system will gives same result for all , system will give us output as value from 0 to 10 but EXCLUDING 10.The meaning of range (0,10,1) is system will give output 0 to 10 excluding 10 WITH STEP SIZE ONE(1)."
      ]
    },
    {
      "cell_type": "code",
      "execution_count": null,
      "id": "8cac66c6",
      "metadata": {
        "id": "8cac66c6",
        "outputId": "5dc994bf-cee8-450f-e51d-16a50de68b9c"
      },
      "outputs": [
        {
          "name": "stdout",
          "output_type": "stream",
          "text": [
            "0\n",
            "1\n",
            "2\n",
            "3\n",
            "4\n",
            "5\n",
            "6\n",
            "7\n",
            "8\n",
            "9\n"
          ]
        }
      ],
      "source": [
        "for i in range(10):\n",
        "    print(i)"
      ]
    },
    {
      "cell_type": "code",
      "execution_count": null,
      "id": "0c7d59fd",
      "metadata": {
        "id": "0c7d59fd",
        "outputId": "4115a4c1-e169-4c2f-a619-0197451f1107"
      },
      "outputs": [
        {
          "name": "stdout",
          "output_type": "stream",
          "text": [
            "0\n",
            "1\n",
            "2\n",
            "3\n",
            "4\n",
            "5\n",
            "6\n",
            "7\n",
            "8\n",
            "9\n"
          ]
        }
      ],
      "source": [
        "for i in range(0, 10):\n",
        "    print(i)"
      ]
    },
    {
      "cell_type": "code",
      "execution_count": null,
      "id": "6b87beb0",
      "metadata": {
        "id": "6b87beb0",
        "outputId": "6613d351-69c7-425d-e60f-e5b23ea09300"
      },
      "outputs": [
        {
          "name": "stdout",
          "output_type": "stream",
          "text": [
            "0\n",
            "1\n",
            "2\n",
            "3\n",
            "4\n",
            "5\n",
            "6\n",
            "7\n",
            "8\n",
            "9\n"
          ]
        }
      ],
      "source": [
        "for i in range(0, 10,1):\n",
        "    print(i)"
      ]
    },
    {
      "cell_type": "raw",
      "id": "13764a83",
      "metadata": {
        "id": "13764a83"
      },
      "source": [
        "12. Write a short program that prints the numbers 1 to 10 using a for loop. Then write an equivalent program that prints the numbers 1 to 10 using a while loop."
      ]
    },
    {
      "cell_type": "code",
      "execution_count": null,
      "id": "62960608",
      "metadata": {
        "id": "62960608",
        "outputId": "07be44c5-efd6-4cc7-8e9a-5ed4a690abe1"
      },
      "outputs": [
        {
          "name": "stdout",
          "output_type": "stream",
          "text": [
            "1\n",
            "2\n",
            "3\n",
            "4\n",
            "5\n",
            "6\n",
            "7\n",
            "8\n",
            "9\n",
            "10\n"
          ]
        }
      ],
      "source": [
        "for i in range (1,11):\n",
        "    print(i)"
      ]
    },
    {
      "cell_type": "code",
      "execution_count": null,
      "id": "003ced4d",
      "metadata": {
        "id": "003ced4d",
        "outputId": "8067d4da-8879-43db-d404-41a7612f9051"
      },
      "outputs": [
        {
          "name": "stdout",
          "output_type": "stream",
          "text": [
            "1\n",
            "2\n",
            "3\n",
            "4\n",
            "5\n",
            "6\n",
            "7\n",
            "8\n",
            "9\n",
            "10\n"
          ]
        }
      ],
      "source": [
        "i=1\n",
        "while i <=10:\n",
        "    print(i)\n",
        "    i=i+1"
      ]
    },
    {
      "cell_type": "raw",
      "id": "a0711c5b",
      "metadata": {
        "id": "a0711c5b"
      },
      "source": [
        "13. If you had a function named bacon() inside a module named spam, how would you call it after importing spam?\n",
        "Answer :-) This function can be called with spam.bacon()."
      ]
    },
    {
      "cell_type": "code",
      "execution_count": null,
      "id": "c15f7f99",
      "metadata": {
        "id": "c15f7f99"
      },
      "outputs": [],
      "source": [
        ""
      ]
    }
  ],
  "metadata": {
    "kernelspec": {
      "display_name": "Python 3 (ipykernel)",
      "language": "python",
      "name": "python3"
    },
    "language_info": {
      "codemirror_mode": {
        "name": "ipython",
        "version": 3
      },
      "file_extension": ".py",
      "mimetype": "text/x-python",
      "name": "python",
      "nbconvert_exporter": "python",
      "pygments_lexer": "ipython3",
      "version": "3.9.7"
    },
    "colab": {
      "name": "Assignment 2.ipynb",
      "provenance": [],
      "collapsed_sections": []
    }
  },
  "nbformat": 4,
  "nbformat_minor": 5
}