{
 "cells": [
  {
   "cell_type": "markdown",
   "id": "421458c6",
   "metadata": {},
   "source": [
    "Q1. What is the relationship between def statements and lambda expressions ?\n",
    "\n",
    "Answer :-) A lambda is an expression producing a function. A def is a statement producing a function."
   ]
  },
  {
   "cell_type": "markdown",
   "id": "09ee674c",
   "metadata": {},
   "source": [
    "Q2. What is the benefit of lambda?\n",
    "\n",
    "Answer :-) It will provide a shortcut for declaring small anonymous functions. Lambda functions behave just like regular functions declared with the def keyword. "
   ]
  },
  {
   "cell_type": "markdown",
   "id": "dd221a15",
   "metadata": {},
   "source": [
    "Q3. Compare and contrast map, filter, and reduce.\n",
    "\n",
    "Answer :-) The map(), filter() and reduce() functions bring a bit of functional programming to Python. All three of these are convenience functions that can be replaced with List Comprehensions or loops, but provide a more elegant and short-hand approach to some problems."
   ]
  },
  {
   "cell_type": "markdown",
   "id": "47b4bcff",
   "metadata": {},
   "source": [
    "Q4. What are function annotations, and how are they used?\n",
    "\n",
    "Answer :-) An annotations method is a method without a name, i.e. not bound to an identifier like when we define a method using def method: "
   ]
  },
  {
   "cell_type": "code",
   "execution_count": 1,
   "id": "4b5f9136",
   "metadata": {},
   "outputs": [],
   "source": [
    "def test(x,y):\n",
    "    return x + y"
   ]
  },
  {
   "cell_type": "code",
   "execution_count": 2,
   "id": "1c602835",
   "metadata": {},
   "outputs": [
    {
     "data": {
      "text/plain": [
       "32"
      ]
     },
     "execution_count": 2,
     "metadata": {},
     "output_type": "execute_result"
    }
   ],
   "source": [
    "test(21,11)"
   ]
  },
  {
   "cell_type": "markdown",
   "id": "264c3cc2",
   "metadata": {},
   "source": [
    "Q5. What are recursive functions, and how are they used?\n",
    "\n",
    "Answer :-) A recursive function is a function that calls itself during its execution. The process may repeat several times, outputting the result and the end of each iteration."
   ]
  },
  {
   "cell_type": "markdown",
   "id": "880a9784",
   "metadata": {},
   "source": [
    "Q6. What are some general design guidelines for coding functions?\n",
    "\n",
    "Answer :-) Use 4-space indentation and no tabs ,  Use docstrings ,  Naming Conventions , use logging , use exceptional handling."
   ]
  },
  {
   "cell_type": "markdown",
   "id": "53962b95",
   "metadata": {},
   "source": [
    "Q7. Name three or more ways that functions can communicate results to a caller.\n",
    "\n",
    "Answer :-) def , print , return "
   ]
  },
  {
   "cell_type": "code",
   "execution_count": null,
   "id": "a5dfbbf4",
   "metadata": {},
   "outputs": [],
   "source": []
  }
 ],
 "metadata": {
  "kernelspec": {
   "display_name": "Python 3 (ipykernel)",
   "language": "python",
   "name": "python3"
  },
  "language_info": {
   "codemirror_mode": {
    "name": "ipython",
    "version": 3
   },
   "file_extension": ".py",
   "mimetype": "text/x-python",
   "name": "python",
   "nbconvert_exporter": "python",
   "pygments_lexer": "ipython3",
   "version": "3.9.7"
  }
 },
 "nbformat": 4,
 "nbformat_minor": 5
}
