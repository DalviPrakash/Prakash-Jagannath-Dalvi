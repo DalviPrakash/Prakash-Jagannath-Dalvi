{
 "cells": [
  {
   "cell_type": "markdown",
   "id": "c89d6547",
   "metadata": {},
   "source": [
    "Q1. What is the result of the code, and why?\n",
    "\n",
    "def func(a, b=6, c=8):\n",
    "\n",
    "print(a, b, c)\n",
    "\n",
    "func(1, 2)"
   ]
  },
  {
   "cell_type": "code",
   "execution_count": 1,
   "id": "39703d19",
   "metadata": {},
   "outputs": [],
   "source": [
    "def func(a, b=6, c=8):\n",
    "    print(a, b, c)"
   ]
  },
  {
   "cell_type": "code",
   "execution_count": 3,
   "id": "a61ad14d",
   "metadata": {},
   "outputs": [
    {
     "name": "stdout",
     "output_type": "stream",
     "text": [
      "1 2 8\n"
     ]
    }
   ],
   "source": [
    "func(1, 2)"
   ]
  },
  {
   "cell_type": "markdown",
   "id": "4cbf8669",
   "metadata": {},
   "source": [
    "In this code first we have created function called as func and in this func we have didnt assign value for a , we assign value for b=6 and c=8.\n",
    "\n",
    "\n",
    "But when we want to recall this function at that time we have given 2 values (1,2) , that means we assigning a=1 now b=6 and we are not defining c but when we created fun at that time we have already define value for c=8 that why we get output a=1,b=2 and c=8."
   ]
  },
  {
   "cell_type": "markdown",
   "id": "22e68ef2",
   "metadata": {},
   "source": [
    "Q2. What is the result of this code, and why?\n",
    "\n",
    "def func(a, b, c=5):\n",
    "    \n",
    "print(a, b, c)\n",
    "\n",
    "func(1, c=3, b=2)"
   ]
  },
  {
   "cell_type": "code",
   "execution_count": 6,
   "id": "b752e62f",
   "metadata": {},
   "outputs": [
    {
     "name": "stdout",
     "output_type": "stream",
     "text": [
      "1 2 3\n"
     ]
    }
   ],
   "source": [
    "def func(a, b, c=5):\n",
    "    print(a, b, c)\n",
    "func(1, c=3, b=2)"
   ]
  },
  {
   "cell_type": "markdown",
   "id": "05c739a6",
   "metadata": {},
   "source": [
    "In this code first we have created function called as func and in this func we have didnt assign value for a and b we assign value for c=5.\n",
    "\n",
    "But when we want to recall this function at that time we have given 3 different values, that means we assigning a=1 , b=2 and we are reassigning  c as 3 that why we get output a=1,b=2 and c=3."
   ]
  },
  {
   "cell_type": "markdown",
   "id": "da0cbea5",
   "metadata": {},
   "source": [
    "Q3. How about this code: what is its result, and why?\n",
    "    \n",
    "def func(a, *pargs):\n",
    "    \n",
    "print(a, pargs)\n",
    "\n",
    "func(1, 2, 3)"
   ]
  },
  {
   "cell_type": "code",
   "execution_count": 7,
   "id": "fe39ae9f",
   "metadata": {},
   "outputs": [
    {
     "name": "stdout",
     "output_type": "stream",
     "text": [
      "1 (2, 3)\n"
     ]
    }
   ],
   "source": [
    "def func(a, *pargs):\n",
    "    print(a, pargs)\n",
    "func(1, 2, 3)"
   ]
  },
  {
   "cell_type": "markdown",
   "id": "8574ce3e",
   "metadata": {},
   "source": [
    "Here single asterisk( * ) is used to pass a variable number of arguments to a function."
   ]
  },
  {
   "cell_type": "markdown",
   "id": "759467f8",
   "metadata": {},
   "source": [
    "Q4. What does this code print, and why?\n",
    "\n",
    "def func(a, **kargs):\n",
    "    \n",
    "print(a, kargs)\n",
    "\n",
    "func(a=1, c=3, b=2)"
   ]
  },
  {
   "cell_type": "code",
   "execution_count": 8,
   "id": "f55ff89e",
   "metadata": {},
   "outputs": [
    {
     "name": "stdout",
     "output_type": "stream",
     "text": [
      "1 {'c': 3, 'b': 2}\n"
     ]
    }
   ],
   "source": [
    "def func(a, **kargs):\n",
    "    print(a, kargs)\n",
    "func(a=1, c=3, b=2)"
   ]
  },
  {
   "cell_type": "markdown",
   "id": "c00601f5",
   "metadata": {},
   "source": [
    "The **kwargs will give us all keyword arguments except for those corresponding to a formal parameter as a dictionary."
   ]
  },
  {
   "cell_type": "markdown",
   "id": "f598d53c",
   "metadata": {},
   "source": [
    "Q5. What gets printed by this, and explain?\n",
    "\n",
    "def func(a, b, c=8, d=5): print(a, b, c, d)\n",
    "\n",
    "func(1, *(5, 6))"
   ]
  },
  {
   "cell_type": "code",
   "execution_count": 12,
   "id": "c3a30a53",
   "metadata": {},
   "outputs": [
    {
     "name": "stdout",
     "output_type": "stream",
     "text": [
      "1 5 6 5\n"
     ]
    }
   ],
   "source": [
    "def func(a, b, c=8, d=5): print(a, b, c, d)\n",
    "func(1, *(5, 6))"
   ]
  },
  {
   "cell_type": "markdown",
   "id": "61d664e8",
   "metadata": {},
   "source": [
    "In this code first we have created function called as func and in this func we have didnt assign value for a and b we assign value for c=8 and d=5. Then we call this func as func(1, *(5, 6)) in this case we assigning a=1 , we use single asteric and we are assigning value for b=5 ,c=6. Hence we are getting an output as a=1, b=5,c=6 and d=5"
   ]
  },
  {
   "cell_type": "markdown",
   "id": "5b747794",
   "metadata": {},
   "source": [
    "Q6. what is the result of this, and explain?\n",
    "\n",
    "def func(a, b, c): a = 2; b[0] = 'x'; c['a'] = 'y'\n",
    "    \n",
    "l=1; m=[1]; n={'a':0}\n",
    "\n",
    "func(l, m, n)\n",
    "\n",
    "l, m, n"
   ]
  },
  {
   "cell_type": "code",
   "execution_count": 18,
   "id": "3709d7f1",
   "metadata": {},
   "outputs": [
    {
     "ename": "IndentationError",
     "evalue": "unexpected indent (Temp/ipykernel_6564/1435977684.py, line 2)",
     "output_type": "error",
     "traceback": [
      "\u001b[1;36m  File \u001b[1;32m\"C:\\Users\\PRAKAS~1\\AppData\\Local\\Temp/ipykernel_6564/1435977684.py\"\u001b[1;36m, line \u001b[1;32m2\u001b[0m\n\u001b[1;33m    l=1; m=[1]; n={'a':0}\u001b[0m\n\u001b[1;37m    ^\u001b[0m\n\u001b[1;31mIndentationError\u001b[0m\u001b[1;31m:\u001b[0m unexpected indent\n"
     ]
    }
   ],
   "source": [
    "def func(a, b, c): a = 2; b[0] = 'x'; c['a'] = 'y'\n",
    "    l=1; m=[1]; n={'a':0}\n",
    "    \n",
    "func(l, m, n)\n",
    "\n",
    "l, m, n"
   ]
  },
  {
   "cell_type": "markdown",
   "id": "0ad86b31",
   "metadata": {},
   "source": [
    "We gives an error because we are defining some variable after function i.e. this thing  a = 2; b[0] = 'x'; c['a'] = 'y'"
   ]
  },
  {
   "cell_type": "code",
   "execution_count": null,
   "id": "9e607d04",
   "metadata": {},
   "outputs": [],
   "source": []
  }
 ],
 "metadata": {
  "kernelspec": {
   "display_name": "Python 3 (ipykernel)",
   "language": "python",
   "name": "python3"
  },
  "language_info": {
   "codemirror_mode": {
    "name": "ipython",
    "version": 3
   },
   "file_extension": ".py",
   "mimetype": "text/x-python",
   "name": "python",
   "nbconvert_exporter": "python",
   "pygments_lexer": "ipython3",
   "version": "3.9.7"
  }
 },
 "nbformat": 4,
 "nbformat_minor": 5
}
