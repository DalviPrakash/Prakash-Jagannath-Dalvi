{
 "cells": [
  {
   "cell_type": "markdown",
   "metadata": {
    "id": "0BbaxndKtbC_"
   },
   "source": [
    "1. In the below elements which of them are values or an expression? eg:- values can be integer or string and expressions will be mathematical operators.\n",
    " answer     *        :-) expressions\n",
    "            'hello'  :-) value\n",
    "           -87.8     :-) value\n",
    "           -         :-) expressions\n",
    "           /         :-) expressions\n",
    "           +\t       :-) expressions\n",
    "           6         :-) value\n"
   ]
  },
  {
   "cell_type": "markdown",
   "metadata": {
    "id": "Ljk2EFJ_uxUP"
   },
   "source": [
    "2. What is the difference between string and variable?\n",
    "answer:-) In variable we can store any values, strings etc but in string we cannot store any values. For example in variable we can store X= 51 or Y= \"Ram\" but \n",
    "          in string we cannot store \"ram\"=51 or \"100\" = ram."
   ]
  },
  {
   "cell_type": "markdown",
   "metadata": {
    "id": "tRW4mXkZwbqa"
   },
   "source": [
    "3. Describe three different data types.\n",
    "answer:-) Interger, Floarting point number,Boolean."
   ]
  },
  {
   "cell_type": "markdown",
   "metadata": {
    "id": "RKkAHR5PxCAc"
   },
   "source": [
    "4. What is an expression made up of? What do all expressions do?\n",
    "answer:-) An expression is a combination of values, variables, operators.\n",
    "          Expressions need to be evaluated. If we ask Python to print an expression, it will evaluates the expression and      displays the result.\n"
   ]
  },
  {
   "cell_type": "markdown",
   "metadata": {
    "id": "9dins6L6xzMj"
   },
   "source": [
    "5. This assignment statements, like spam = 10. What is the difference between an expression and a statement?\n",
    "answer:-) A statement is an instruction that the Python interpreter can execute. example-  spam=10 , x= 11  etc \n",
    "          An expression is a combination of values, variables, operators.  example-   X+2 , \"Ram\"*3   etc \n",
    "          An expression evaluates to a single value. A statement does not.\n"
   ]
  },
  {
   "cell_type": "markdown",
   "metadata": {
    "id": "M6whicP7z60K"
   },
   "source": [
    "6. After running the following code, what does the variable bacon contain?\n",
    "bacon = 22\n",
    "bacon + 1\n",
    "answer:-) "
   ]
  },
  {
   "cell_type": "code",
   "execution_count": 2,
   "metadata": {
    "id": "E9iODT8j0AsO"
   },
   "outputs": [],
   "source": [
    "bacon=22"
   ]
  },
  {
   "cell_type": "code",
   "execution_count": 3,
   "metadata": {
    "colab": {
     "base_uri": "https://localhost:8080/"
    },
    "id": "Bhjy_7MY0Gky",
    "outputId": "9e9b1307-67ef-48d3-fbc0-96d28198dab6"
   },
   "outputs": [
    {
     "data": {
      "text/plain": [
       "23"
      ]
     },
     "execution_count": 3,
     "metadata": {},
     "output_type": "execute_result"
    }
   ],
   "source": [
    "bacon + 1"
   ]
  },
  {
   "cell_type": "markdown",
   "metadata": {
    "id": "0Joj0t1R0M7h"
   },
   "source": [
    "7. What should the values of the following two terms be?\n",
    "'spam' + 'spamspam'\n",
    "'spam' * 3\n",
    "answer:-)"
   ]
  },
  {
   "cell_type": "code",
   "execution_count": 4,
   "metadata": {
    "colab": {
     "base_uri": "https://localhost:8080/",
     "height": 35
    },
    "id": "cCyMSLfc0U69",
    "outputId": "23086a29-6f1b-4345-d3f4-9327f7b6c780"
   },
   "outputs": [
    {
     "data": {
      "application/vnd.google.colaboratory.intrinsic+json": {
       "type": "string"
      },
      "text/plain": [
       "'spamspamspam'"
      ]
     },
     "execution_count": 4,
     "metadata": {},
     "output_type": "execute_result"
    }
   ],
   "source": [
    "'spam'+'spamspam'"
   ]
  },
  {
   "cell_type": "code",
   "execution_count": 5,
   "metadata": {
    "colab": {
     "base_uri": "https://localhost:8080/",
     "height": 35
    },
    "id": "aLWYWkVH0bGL",
    "outputId": "41a1ed34-5eb9-48f7-8688-55f929db6530"
   },
   "outputs": [
    {
     "data": {
      "application/vnd.google.colaboratory.intrinsic+json": {
       "type": "string"
      },
      "text/plain": [
       "'spamspamspam'"
      ]
     },
     "execution_count": 5,
     "metadata": {},
     "output_type": "execute_result"
    }
   ],
   "source": [
    "'spam'*3"
   ]
  },
  {
   "cell_type": "markdown",
   "metadata": {
    "id": "2YO6iE280fbl"
   },
   "source": [
    "8. Why is eggs a valid variable name while 100 is invalid?\n",
    "answer:-) Because Variable names cannot begin with a number"
   ]
  },
  {
   "cell_type": "code",
   "execution_count": null,
   "metadata": {
    "id": "62ZNagcY19kj"
   },
   "outputs": [],
   "source": [
    "9. What three functions can be used to get the integer, floating-point number, or string version of a value?\n",
    "answer:-) for integer- int()\n",
    "          for float-   float()\n",
    "          for strint-  str()"
   ]
  },
  {
   "cell_type": "markdown",
   "metadata": {
    "id": "2FpG-as52bne"
   },
   "source": [
    "10. Why does this expression cause an error? How can you fix it?\n",
    "'I have eaten ' + 99 + ' burritos.'\n",
    "answer:-) because 99 is number if we want to fix it we write it as '99'"
   ]
  },
  {
   "cell_type": "code",
   "execution_count": 6,
   "metadata": {
    "colab": {
     "base_uri": "https://localhost:8080/",
     "height": 165
    },
    "id": "dJj5F6lQ2thI",
    "outputId": "acc6d07f-aae6-49e3-c28b-ef608bbeba9d"
   },
   "outputs": [
    {
     "ename": "TypeError",
     "evalue": "ignored",
     "output_type": "error",
     "traceback": [
      "\u001b[0;31m---------------------------------------------------------------------------\u001b[0m",
      "\u001b[0;31mTypeError\u001b[0m                                 Traceback (most recent call last)",
      "\u001b[0;32m<ipython-input-6-d24137131a5c>\u001b[0m in \u001b[0;36m<module>\u001b[0;34m()\u001b[0m\n\u001b[0;32m----> 1\u001b[0;31m \u001b[0;34m'I have eaten '\u001b[0m \u001b[0;34m+\u001b[0m \u001b[0;36m99\u001b[0m \u001b[0;34m+\u001b[0m \u001b[0;34m' burritos.'\u001b[0m\u001b[0;34m\u001b[0m\u001b[0;34m\u001b[0m\u001b[0m\n\u001b[0m",
      "\u001b[0;31mTypeError\u001b[0m: can only concatenate str (not \"int\") to str"
     ]
    }
   ],
   "source": [
    "'I have eaten ' + 99 + ' burritos.'"
   ]
  },
  {
   "cell_type": "code",
   "execution_count": 7,
   "metadata": {
    "colab": {
     "base_uri": "https://localhost:8080/",
     "height": 35
    },
    "id": "EDH1gE4L22xm",
    "outputId": "15d1bba6-457c-4c93-85eb-02288a92480e"
   },
   "outputs": [
    {
     "data": {
      "application/vnd.google.colaboratory.intrinsic+json": {
       "type": "string"
      },
      "text/plain": [
       "'I have eaten 99 burritos.'"
      ]
     },
     "execution_count": 7,
     "metadata": {},
     "output_type": "execute_result"
    }
   ],
   "source": [
    "'I have eaten ' + '99' + ' burritos.'"
   ]
  }
 ],
 "metadata": {
  "colab": {
   "collapsed_sections": [],
   "name": "First assignment.ipynb",
   "provenance": []
  },
  "kernelspec": {
   "display_name": "Python 3",
   "language": "python",
   "name": "python3"
  },
  "language_info": {
   "codemirror_mode": {
    "name": "ipython",
    "version": 3
   },
   "file_extension": ".py",
   "mimetype": "text/x-python",
   "name": "python",
   "nbconvert_exporter": "python",
   "pygments_lexer": "ipython3",
   "version": "3.8.8"
  }
 },
 "nbformat": 4,
 "nbformat_minor": 1
}
