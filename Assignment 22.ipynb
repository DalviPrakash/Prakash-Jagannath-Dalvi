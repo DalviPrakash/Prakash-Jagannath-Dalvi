{
 "cells": [
  {
   "cell_type": "markdown",
   "id": "dd903620",
   "metadata": {},
   "source": [
    "Q1. What is the result of the code, and explain?\n",
    "\n",
    "X = 'iNeuron'\n",
    "\n",
    "def func():\n",
    "\n",
    "print(X)\n",
    "\n",
    "func()"
   ]
  },
  {
   "cell_type": "code",
   "execution_count": 1,
   "id": "fd214409",
   "metadata": {},
   "outputs": [
    {
     "name": "stdout",
     "output_type": "stream",
     "text": [
      "iNeuron\n"
     ]
    }
   ],
   "source": [
    "X = 'iNeuron'\n",
    "\n",
    "def func():\n",
    "\n",
    "    print(X)\n",
    "\n",
    "func()"
   ]
  },
  {
   "cell_type": "markdown",
   "id": "449e4761",
   "metadata": {},
   "source": [
    "In this code first we stored ineuron i.e. string in variable X. Then we have created function called as func and we are saying whenever we call this func print(x). Thats why we got output an ineuron."
   ]
  },
  {
   "cell_type": "markdown",
   "id": "c371d5ea",
   "metadata": {},
   "source": [
    "Q2. What is the result of the code, and explain?\n",
    "\n",
    "X = 'iNeuron'\n",
    "\n",
    "def func():\n",
    "    \n",
    "X = 'NI!'\n",
    "\n",
    "func()\n",
    "\n",
    "print(X)"
   ]
  },
  {
   "cell_type": "code",
   "execution_count": 17,
   "id": "eaaa5039",
   "metadata": {},
   "outputs": [
    {
     "name": "stdout",
     "output_type": "stream",
     "text": [
      "iNeuron\n"
     ]
    }
   ],
   "source": [
    "X = 'iNeuron'\n",
    "def func():\n",
    "    X = 'NI!'\n",
    "func()\n",
    "print(X)"
   ]
  },
  {
   "cell_type": "markdown",
   "id": "2bda7e3b",
   "metadata": {},
   "source": [
    "In this code first we stored ineuron i.e string in variable X. Then we have created function called as func and we are saying whenever we call this func print(x). Thats why we got output an ineuron."
   ]
  },
  {
   "cell_type": "markdown",
   "id": "4eb3d4d8",
   "metadata": {},
   "source": [
    "Q3. What does this code print, and why?\n",
    "\n",
    "X = 'iNeuron'\n",
    "\n",
    "def func():\n",
    "    \n",
    "X = 'NI'\n",
    "\n",
    "print(X)\n",
    "\n",
    "func()\n",
    "\n",
    "print(X)"
   ]
  },
  {
   "cell_type": "code",
   "execution_count": 15,
   "id": "752f9f31",
   "metadata": {},
   "outputs": [
    {
     "name": "stdout",
     "output_type": "stream",
     "text": [
      "NI\n",
      "iNeuron\n"
     ]
    }
   ],
   "source": [
    "X = 'iNeuron'\n",
    "\n",
    "def func():\n",
    "\n",
    "    X = 'NI'\n",
    "\n",
    "    print(X)\n",
    "func()\n",
    "print(X)"
   ]
  },
  {
   "cell_type": "markdown",
   "id": "3e3c19be",
   "metadata": {},
   "source": [
    "The output of the code is NI and iNeuron. X=NI is in the local scope of the function func() hence the function prints the x value as NI. X = 'iNeuron' is in the global scope. hence print(X) prints output as iNeuron"
   ]
  },
  {
   "cell_type": "markdown",
   "id": "8392e514",
   "metadata": {},
   "source": [
    "Q4. What output does this code produce? Why?\n",
    "\n",
    "X = 'iNeuron'\n",
    "\n",
    "def func():\n",
    "\n",
    "global X\n",
    "\n",
    "X = 'NI'\n",
    "\n",
    "\n",
    "func()\n",
    "\n",
    "print(X)"
   ]
  },
  {
   "cell_type": "code",
   "execution_count": 18,
   "id": "603363cb",
   "metadata": {},
   "outputs": [
    {
     "name": "stdout",
     "output_type": "stream",
     "text": [
      "NI\n"
     ]
    }
   ],
   "source": [
    "X = 'iNeuron'\n",
    "def func():\n",
    "    global X\n",
    "    X = 'NI'\n",
    "func()\n",
    "print(X)\n"
   ]
  },
  {
   "cell_type": "markdown",
   "id": "61df284f",
   "metadata": {},
   "source": [
    "The output of the code is NI. the global keyword allows a variable to be accessible in the current scope. since we are using global keyword inside the function func it directly access the variable in X in global scope. and changes its value to NI. hence the output of the code is NI"
   ]
  },
  {
   "cell_type": "markdown",
   "id": "264b91bd",
   "metadata": {},
   "source": [
    "Q5. What about this code—what’s the output, and why?\n",
    "\n",
    "X = 'iNeuron'\n",
    "\n",
    "def func():\n",
    "    \n",
    "X = 'NI'\n",
    "\n",
    "def nested():\n",
    "    \n",
    "print(X)\n",
    "\n",
    "nested()\n",
    "\n",
    "\n",
    "func()\n",
    "\n",
    "X"
   ]
  },
  {
   "cell_type": "code",
   "execution_count": 21,
   "id": "47b5b1be",
   "metadata": {},
   "outputs": [
    {
     "name": "stdout",
     "output_type": "stream",
     "text": [
      "NI\n"
     ]
    },
    {
     "data": {
      "text/plain": [
       "'iNeuron'"
      ]
     },
     "execution_count": 21,
     "metadata": {},
     "output_type": "execute_result"
    }
   ],
   "source": [
    "X = 'iNeuron'\n",
    "def func():\n",
    "    X = 'NI'\n",
    "    def nested():\n",
    "        print(X)\n",
    "    nested()\n",
    "func()\n",
    "X"
   ]
  },
  {
   "cell_type": "markdown",
   "id": "57dec4e6",
   "metadata": {},
   "source": [
    "The output of the code is NI. the reason for this output is if a function wants to access a variable, if its not available in its localscope. it looks for the variable in its global scope. similarly here also function nested looks for variable X in its global scope. hence the output of the code is NI"
   ]
  },
  {
   "cell_type": "markdown",
   "id": "76d2e51d",
   "metadata": {},
   "source": [
    "Q6. How about this code: what is its output in Python 3, and explain?\n",
    "\n",
    "def func():\n",
    "    \n",
    "X = 'NI'\n",
    "\n",
    "def nested():\n",
    "    \n",
    "nonlocal X\n",
    "\n",
    "X = 'Spam'\n",
    "\n",
    "nested()\n",
    "\n",
    "print(X)\n",
    "\n",
    "func()"
   ]
  },
  {
   "cell_type": "code",
   "execution_count": 23,
   "id": "1b9bf785",
   "metadata": {},
   "outputs": [
    {
     "name": "stdout",
     "output_type": "stream",
     "text": [
      "Spam\n"
     ]
    }
   ],
   "source": [
    "def func():\n",
    "    X = 'NI'\n",
    "    def nested():\n",
    "        nonlocal X\n",
    "        X = 'Spam'\n",
    "    nested()\n",
    "    print(X)\n",
    "func()"
   ]
  },
  {
   "cell_type": "markdown",
   "id": "ea3c4446",
   "metadata": {},
   "source": [
    "The output of the code is Spam. nonlocal keyword in python is used to declare a variable as not local.Hence the statement X = \"Spam\" is modified in the global scope. hence the output of print(X) statement is Spam"
   ]
  },
  {
   "cell_type": "code",
   "execution_count": null,
   "id": "6b9f642b",
   "metadata": {},
   "outputs": [],
   "source": []
  }
 ],
 "metadata": {
  "kernelspec": {
   "display_name": "Python 3 (ipykernel)",
   "language": "python",
   "name": "python3"
  },
  "language_info": {
   "codemirror_mode": {
    "name": "ipython",
    "version": 3
   },
   "file_extension": ".py",
   "mimetype": "text/x-python",
   "name": "python",
   "nbconvert_exporter": "python",
   "pygments_lexer": "ipython3",
   "version": "3.9.7"
  }
 },
 "nbformat": 4,
 "nbformat_minor": 5
}
